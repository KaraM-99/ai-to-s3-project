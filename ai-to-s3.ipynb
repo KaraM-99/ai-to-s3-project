{
 "cells": [
  {
   "cell_type": "markdown",
   "id": "da3a7140",
   "metadata": {},
   "source": [
    "# 🤖 AI to AWS S3 Project\n",
    "Upload a motivational message to your S3 bucket."
   ]
  },
  {
   "cell_type": "code",
   "execution_count": null,
   "id": "503959a9",
   "metadata": {},
   "outputs": [],
   "source": [
    "# 🧠 Message content\n",
    "message = \"\"\"To every woman stepping into tech: You belong here. Your curiosity, creativity, and courage are your superpowers.\n",
    "Even when the path feels uncertain, keep showing up — because the future is waiting to be built by voices like yours.\n",
    "Stay bold. Stay brilliant. You’ve got this.\"\"\""
   ]
  },
  {
   "cell_type": "code",
   "execution_count": null,
   "id": "e1002eb1",
   "metadata": {},
   "outputs": [],
   "source": [
    "# 💾 Save to a .txt file\n",
    "filename = \"motivation-for-women-in-tech.txt\"\n",
    "with open(filename, \"w\") as f:\n",
    "    f.write(message)\n",
    "print(f\"Saved to {filename}\")"
   ]
  },
  {
   "cell_type": "code",
   "execution_count": null,
   "id": "af7b2c16",
   "metadata": {},
   "outputs": [],
   "source": [
    "# ☁️ Upload to your S3 bucket\n",
    "!aws s3 cp motivation-for-women-in-tech.txt s3://karabo-ai-projects/"
   ]
  },
  {
   "cell_type": "markdown",
   "id": "8d7eb2d3",
   "metadata": {},
   "source": [
    "✅ Done! Your motivational message has been uploaded to your S3 bucket."
   ]
  }
 ],
 "metadata": {},
 "nbformat": 4,
 "nbformat_minor": 5
}
